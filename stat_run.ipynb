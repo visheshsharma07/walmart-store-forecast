{
 "cells": [
  {
   "cell_type": "code",
   "execution_count": 2,
   "metadata": {},
   "outputs": [],
   "source": [
    "from pyspark import SparkContext, SparkConf\n",
    "from pyspark.sql import SparkSession\n",
    "import pyspark\n",
    "\n",
    "conf = pyspark.SparkConf().setAppName('appName').setMaster('local')\n",
    "sc = pyspark.SparkContext(conf=conf)\n",
    "spark = SparkSession(sc)\n",
    "#comment check\n",
    "\n",
    "from pyspark import HiveContext\n",
    "\n",
    "sqlContext = HiveContext(sc)"
   ]
  },
  {
   "cell_type": "code",
   "execution_count": 3,
   "metadata": {},
   "outputs": [],
   "source": [
    "sql = sqlContext.sql"
   ]
  },
  {
   "cell_type": "code",
   "execution_count": 4,
   "metadata": {},
   "outputs": [],
   "source": [
    "stores_df = sqlContext.read.csv(\"./stores.csv\",header=True,inferSchema=True)"
   ]
  },
  {
   "cell_type": "code",
   "execution_count": 5,
   "metadata": {},
   "outputs": [
    {
     "name": "stdout",
     "output_type": "stream",
     "text": [
      "+-----+----+------+\n",
      "|Store|Type|Size  |\n",
      "+-----+----+------+\n",
      "|1    |A   |151315|\n",
      "|2    |A   |202307|\n",
      "|3    |B   |37392 |\n",
      "|4    |A   |205863|\n",
      "|5    |B   |34875 |\n",
      "|6    |A   |202505|\n",
      "|7    |B   |70713 |\n",
      "|8    |A   |155078|\n",
      "|9    |B   |125833|\n",
      "|10   |B   |126512|\n",
      "+-----+----+------+\n",
      "only showing top 10 rows\n",
      "\n"
     ]
    }
   ],
   "source": [
    "stores_df.show(10,False)"
   ]
  },
  {
   "cell_type": "code",
   "execution_count": 6,
   "metadata": {},
   "outputs": [],
   "source": [
    "test_df = sqlContext.read.csv(\"./test.csv\",header=True,inferSchema=True)"
   ]
  },
  {
   "cell_type": "code",
   "execution_count": 7,
   "metadata": {},
   "outputs": [
    {
     "name": "stdout",
     "output_type": "stream",
     "text": [
      "+-----+----+-------------------+---------+\n",
      "|Store|Dept|Date               |IsHoliday|\n",
      "+-----+----+-------------------+---------+\n",
      "|1    |1   |2012-11-02 00:00:00|false    |\n",
      "|1    |1   |2012-11-09 00:00:00|false    |\n",
      "|1    |1   |2012-11-16 00:00:00|false    |\n",
      "|1    |1   |2012-11-23 00:00:00|true     |\n",
      "|1    |1   |2012-11-30 00:00:00|false    |\n",
      "|1    |1   |2012-12-07 00:00:00|false    |\n",
      "|1    |1   |2012-12-14 00:00:00|false    |\n",
      "|1    |1   |2012-12-21 00:00:00|false    |\n",
      "|1    |1   |2012-12-28 00:00:00|true     |\n",
      "|1    |1   |2013-01-04 00:00:00|false    |\n",
      "+-----+----+-------------------+---------+\n",
      "only showing top 10 rows\n",
      "\n"
     ]
    }
   ],
   "source": [
    "test_df.show(10,False)"
   ]
  },
  {
   "cell_type": "code",
   "execution_count": 8,
   "metadata": {},
   "outputs": [],
   "source": [
    "train_df = sqlContext.read.csv(\"./train.csv\",header=True,inferSchema=True)"
   ]
  },
  {
   "cell_type": "code",
   "execution_count": 9,
   "metadata": {},
   "outputs": [
    {
     "name": "stdout",
     "output_type": "stream",
     "text": [
      "+-----+----+-------------------+------------+---------+\n",
      "|Store|Dept|Date               |Weekly_Sales|IsHoliday|\n",
      "+-----+----+-------------------+------------+---------+\n",
      "|1    |1   |2010-02-05 00:00:00|24924.5     |false    |\n",
      "|1    |1   |2010-02-12 00:00:00|46039.49    |true     |\n",
      "|1    |1   |2010-02-19 00:00:00|41595.55    |false    |\n",
      "|1    |1   |2010-02-26 00:00:00|19403.54    |false    |\n",
      "|1    |1   |2010-03-05 00:00:00|21827.9     |false    |\n",
      "|1    |1   |2010-03-12 00:00:00|21043.39    |false    |\n",
      "|1    |1   |2010-03-19 00:00:00|22136.64    |false    |\n",
      "|1    |1   |2010-03-26 00:00:00|26229.21    |false    |\n",
      "|1    |1   |2010-04-02 00:00:00|57258.43    |false    |\n",
      "|1    |1   |2010-04-09 00:00:00|42960.91    |false    |\n",
      "+-----+----+-------------------+------------+---------+\n",
      "only showing top 10 rows\n",
      "\n"
     ]
    }
   ],
   "source": [
    "train_df.show(10,False)"
   ]
  },
  {
   "cell_type": "code",
   "execution_count": 10,
   "metadata": {},
   "outputs": [],
   "source": [
    "features_df = sqlContext.read.csv(\"./features.csv\",header=True,inferSchema=True)"
   ]
  },
  {
   "cell_type": "code",
   "execution_count": 11,
   "metadata": {},
   "outputs": [
    {
     "name": "stdout",
     "output_type": "stream",
     "text": [
      "+-----+-------------------+-----------+----------+---------+---------+---------+---------+---------+-----------+------------+---------+\n",
      "|Store|Date               |Temperature|Fuel_Price|MarkDown1|MarkDown2|MarkDown3|MarkDown4|MarkDown5|CPI        |Unemployment|IsHoliday|\n",
      "+-----+-------------------+-----------+----------+---------+---------+---------+---------+---------+-----------+------------+---------+\n",
      "|1    |2010-02-05 00:00:00|42.31      |2.572     |NA       |NA       |NA       |NA       |NA       |211.0963582|8.106       |false    |\n",
      "|1    |2010-02-12 00:00:00|38.51      |2.548     |NA       |NA       |NA       |NA       |NA       |211.2421698|8.106       |true     |\n",
      "|1    |2010-02-19 00:00:00|39.93      |2.514     |NA       |NA       |NA       |NA       |NA       |211.2891429|8.106       |false    |\n",
      "|1    |2010-02-26 00:00:00|46.63      |2.561     |NA       |NA       |NA       |NA       |NA       |211.3196429|8.106       |false    |\n",
      "|1    |2010-03-05 00:00:00|46.5       |2.625     |NA       |NA       |NA       |NA       |NA       |211.3501429|8.106       |false    |\n",
      "|1    |2010-03-12 00:00:00|57.79      |2.667     |NA       |NA       |NA       |NA       |NA       |211.3806429|8.106       |false    |\n",
      "|1    |2010-03-19 00:00:00|54.58      |2.72      |NA       |NA       |NA       |NA       |NA       |211.215635 |8.106       |false    |\n",
      "|1    |2010-03-26 00:00:00|51.45      |2.732     |NA       |NA       |NA       |NA       |NA       |211.0180424|8.106       |false    |\n",
      "|1    |2010-04-02 00:00:00|62.27      |2.719     |NA       |NA       |NA       |NA       |NA       |210.8204499|7.808       |false    |\n",
      "|1    |2010-04-09 00:00:00|65.86      |2.77      |NA       |NA       |NA       |NA       |NA       |210.6228574|7.808       |false    |\n",
      "+-----+-------------------+-----------+----------+---------+---------+---------+---------+---------+-----------+------------+---------+\n",
      "only showing top 10 rows\n",
      "\n"
     ]
    }
   ],
   "source": [
    "features_df.show(10,False)"
   ]
  },
  {
   "cell_type": "code",
   "execution_count": 12,
   "metadata": {},
   "outputs": [],
   "source": [
    "samplesub_df = sqlContext.read.csv(\"./sampleSubmission.csv\",header=True,inferSchema=True)"
   ]
  },
  {
   "cell_type": "code",
   "execution_count": 13,
   "metadata": {},
   "outputs": [
    {
     "name": "stdout",
     "output_type": "stream",
     "text": [
      "+--------------+------------+\n",
      "|Id            |Weekly_Sales|\n",
      "+--------------+------------+\n",
      "|1_1_2012-11-02|0           |\n",
      "|1_1_2012-11-09|0           |\n",
      "|1_1_2012-11-16|0           |\n",
      "|1_1_2012-11-23|0           |\n",
      "|1_1_2012-11-30|0           |\n",
      "|1_1_2012-12-07|0           |\n",
      "|1_1_2012-12-14|0           |\n",
      "|1_1_2012-12-21|0           |\n",
      "|1_1_2012-12-28|0           |\n",
      "|1_1_2013-01-04|0           |\n",
      "+--------------+------------+\n",
      "only showing top 10 rows\n",
      "\n"
     ]
    }
   ],
   "source": [
    "samplesub_df.show(10,False)"
   ]
  },
  {
   "cell_type": "code",
   "execution_count": null,
   "metadata": {},
   "outputs": [],
   "source": []
  }
 ],
 "metadata": {
  "kernelspec": {
   "display_name": "Python 3",
   "language": "python",
   "name": "python3"
  },
  "language_info": {
   "codemirror_mode": {
    "name": "ipython",
    "version": 3
   },
   "file_extension": ".py",
   "mimetype": "text/x-python",
   "name": "python",
   "nbconvert_exporter": "python",
   "pygments_lexer": "ipython3",
   "version": "3.7.3"
  }
 },
 "nbformat": 4,
 "nbformat_minor": 4
}
